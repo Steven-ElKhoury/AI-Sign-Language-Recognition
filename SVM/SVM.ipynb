{
 "cells": [
  {
   "cell_type": "code",
   "execution_count": 2,
   "metadata": {},
   "outputs": [],
   "source": [
    "from sklearn.model_selection import train_test_split\n",
    "from keras.utils import to_categorical\n",
    "# imports\n",
    "\n",
    "import cv2\n",
    "import numpy as np\n",
    "import os\n",
    "import matplotlib.pyplot as plt\n",
    "import time\n",
    "import mediapipe as mp"
   ]
  },
  {
   "cell_type": "code",
   "execution_count": 3,
   "metadata": {},
   "outputs": [],
   "source": [
    "# Load sequences and labels from disk\n",
    "sequences = np.load('../sequences_augmented.npy')\n",
    "labels = np.load('../labels_augmented.npy')\n"
   ]
  },
  {
   "cell_type": "code",
   "execution_count": 4,
   "metadata": {},
   "outputs": [
    {
     "name": "stdout",
     "output_type": "stream",
     "text": [
      "(6500, 30, 1662)\n",
      "(6500, 65)\n"
     ]
    }
   ],
   "source": [
    "X = sequences\n",
    "#output in one hot encoded format\n",
    "y= to_categorical(labels).astype(int)\n",
    "\n",
    "print(X.shape)\n",
    "print(y.shape)"
   ]
  },
  {
   "cell_type": "code",
   "execution_count": 5,
   "metadata": {},
   "outputs": [
    {
     "name": "stdout",
     "output_type": "stream",
     "text": [
      "(5850, 30, 1662)\n",
      "(5850, 65)\n"
     ]
    }
   ],
   "source": [
    "X_train, X_test, y_train, y_test = train_test_split(X, y, test_size=0.1, random_state=42)    \n",
    "\n",
    "print(X_train.shape)\n",
    "print(y_train.shape)"
   ]
  },
  {
   "cell_type": "code",
   "execution_count": 6,
   "metadata": {},
   "outputs": [],
   "source": [
    "from tensorflow import keras\n",
    "from keras.layers import Dense, LSTM\n",
    "from keras.models import Sequential\n",
    "from keras.callbacks import TensorBoard\n",
    "\n",
    "log_dir = os.path.join('../Logs')\n",
    "tb_callback = TensorBoard(log_dir=log_dir)\n"
   ]
  },
  {
   "cell_type": "code",
   "execution_count": 7,
   "metadata": {},
   "outputs": [],
   "source": [
    "from sklearn.preprocessing import StandardScaler\n",
    "from sklearn.svm import SVC\n",
    "from sklearn.metrics import accuracy_score\n",
    "from sklearn.multiclass import OneVsRestClassifier\n",
    "import numpy as np\n",
    "\n",
    "# Reshape X_train to 2D array\n",
    "num_samples, seq_length, num_features = X_train.shape\n",
    "X_train_2d = np.reshape(X_train, (num_samples, seq_length * num_features))\n",
    "\n",
    "# Standardize the features by removing the mean and scaling to unit variance\n",
    "scaler = StandardScaler()\n",
    "X_train_scaled = scaler.fit_transform(X_train_2d)\n",
    "X_test_2d = np.reshape(X_test, (X_test.shape[0], seq_length * num_features))\n",
    "X_test_scaled = scaler.transform(X_test_2d)\n",
    "\n",
    "# Initialize SVM classifier\n",
    "svm = SVC(C=0.1, gamma=0.1, kernel='rbf')\n",
    "\n",
    "# Initialize OneVsRestClassifier with SVM\n",
    "ovr = OneVsRestClassifier(svm)\n",
    "\n",
    "# Train the model\n",
    "ovr.fit(X_train_scaled, y_train)\n",
    "\n",
    "# Predict on test set\n",
    "y_pred = ovr.predict(X_test_scaled)\n",
    "\n",
    "# Calculate accuracy\n",
    "accuracy = accuracy_score(y_test, y_pred)\n",
    "print(\"Accuracy:\", accuracy)"
   ]
  },
  {
   "cell_type": "code",
   "execution_count": 10,
   "metadata": {},
   "outputs": [
    {
     "data": {
      "text/plain": [
       "['../actions/best_knn_model.pkl']"
      ]
     },
     "execution_count": 10,
     "metadata": {},
     "output_type": "execute_result"
    }
   ],
   "source": [
    "import joblib\n",
    "\n",
    "joblib.dump(best_svm, '../actions/best_svm_model.pkl')"
   ]
  },
  {
   "cell_type": "code",
   "execution_count": 11,
   "metadata": {},
   "outputs": [],
   "source": [
    "# Load the saved KNN model from file\n",
    "loaded_svm_model = joblib.load('../actions/best_svm_model.pkl')\n"
   ]
  },
  {
   "cell_type": "code",
   "execution_count": 13,
   "metadata": {},
   "outputs": [
    {
     "name": "stdout",
     "output_type": "stream",
     "text": [
      "0.8072916666666666\n"
     ]
    },
    {
     "data": {
      "text/plain": [
       "array([[[509,  58],\n",
       "        [  0,   9]],\n",
       "\n",
       "       [[563,   3],\n",
       "        [  4,   6]],\n",
       "\n",
       "       [[562,   6],\n",
       "        [  4,   4]],\n",
       "\n",
       "       [[567,   1],\n",
       "        [  0,   8]],\n",
       "\n",
       "       [[567,   0],\n",
       "        [  3,   6]],\n",
       "\n",
       "       [[566,   0],\n",
       "        [  0,  10]],\n",
       "\n",
       "       [[563,   4],\n",
       "        [  2,   7]],\n",
       "\n",
       "       [[563,   1],\n",
       "        [  3,   9]],\n",
       "\n",
       "       [[568,   0],\n",
       "        [  3,   5]],\n",
       "\n",
       "       [[562,   2],\n",
       "        [  4,   8]],\n",
       "\n",
       "       [[565,   0],\n",
       "        [  3,   8]],\n",
       "\n",
       "       [[565,   2],\n",
       "        [  4,   5]],\n",
       "\n",
       "       [[564,   1],\n",
       "        [  3,   8]],\n",
       "\n",
       "       [[565,   0],\n",
       "        [  2,   9]],\n",
       "\n",
       "       [[565,   0],\n",
       "        [  5,   6]],\n",
       "\n",
       "       [[563,   3],\n",
       "        [  0,  10]],\n",
       "\n",
       "       [[570,   1],\n",
       "        [  0,   5]],\n",
       "\n",
       "       [[569,   0],\n",
       "        [  2,   5]],\n",
       "\n",
       "       [[565,   0],\n",
       "        [  4,   7]],\n",
       "\n",
       "       [[567,   0],\n",
       "        [  1,   8]],\n",
       "\n",
       "       [[562,   2],\n",
       "        [  3,   9]],\n",
       "\n",
       "       [[566,   1],\n",
       "        [  3,   6]],\n",
       "\n",
       "       [[565,   0],\n",
       "        [  2,   9]],\n",
       "\n",
       "       [[568,   0],\n",
       "        [  0,   8]],\n",
       "\n",
       "       [[569,   0],\n",
       "        [  1,   6]],\n",
       "\n",
       "       [[568,   1],\n",
       "        [  0,   7]],\n",
       "\n",
       "       [[568,   0],\n",
       "        [  0,   8]],\n",
       "\n",
       "       [[571,   0],\n",
       "        [  0,   5]],\n",
       "\n",
       "       [[566,   1],\n",
       "        [  1,   8]],\n",
       "\n",
       "       [[567,   0],\n",
       "        [  1,   8]],\n",
       "\n",
       "       [[569,   0],\n",
       "        [  1,   6]],\n",
       "\n",
       "       [[569,   0],\n",
       "        [  3,   4]],\n",
       "\n",
       "       [[567,   0],\n",
       "        [  1,   8]],\n",
       "\n",
       "       [[566,   2],\n",
       "        [  1,   7]],\n",
       "\n",
       "       [[570,   0],\n",
       "        [  1,   5]],\n",
       "\n",
       "       [[560,   0],\n",
       "        [  4,  12]],\n",
       "\n",
       "       [[567,   0],\n",
       "        [  5,   4]],\n",
       "\n",
       "       [[568,   1],\n",
       "        [  0,   7]],\n",
       "\n",
       "       [[569,   2],\n",
       "        [  2,   3]],\n",
       "\n",
       "       [[567,   1],\n",
       "        [  1,   7]],\n",
       "\n",
       "       [[567,   0],\n",
       "        [  0,   9]],\n",
       "\n",
       "       [[567,   0],\n",
       "        [  0,   9]],\n",
       "\n",
       "       [[562,   1],\n",
       "        [  2,  11]],\n",
       "\n",
       "       [[565,   1],\n",
       "        [  1,   9]],\n",
       "\n",
       "       [[567,   0],\n",
       "        [  3,   6]],\n",
       "\n",
       "       [[566,   0],\n",
       "        [  0,  10]],\n",
       "\n",
       "       [[569,   1],\n",
       "        [  1,   5]],\n",
       "\n",
       "       [[565,   0],\n",
       "        [  7,   4]],\n",
       "\n",
       "       [[565,   1],\n",
       "        [  0,  10]],\n",
       "\n",
       "       [[570,   0],\n",
       "        [  0,   6]],\n",
       "\n",
       "       [[565,   1],\n",
       "        [  3,   7]],\n",
       "\n",
       "       [[569,   2],\n",
       "        [  0,   5]],\n",
       "\n",
       "       [[561,   4],\n",
       "        [  2,   9]],\n",
       "\n",
       "       [[566,   1],\n",
       "        [  2,   7]],\n",
       "\n",
       "       [[568,   0],\n",
       "        [  1,   7]],\n",
       "\n",
       "       [[569,   0],\n",
       "        [  1,   6]],\n",
       "\n",
       "       [[567,   0],\n",
       "        [  4,   5]],\n",
       "\n",
       "       [[561,   3],\n",
       "        [  0,  12]],\n",
       "\n",
       "       [[569,   1],\n",
       "        [  0,   6]],\n",
       "\n",
       "       [[567,   0],\n",
       "        [  0,   9]],\n",
       "\n",
       "       [[568,   0],\n",
       "        [  0,   8]],\n",
       "\n",
       "       [[567,   0],\n",
       "        [  2,   7]],\n",
       "\n",
       "       [[564,   1],\n",
       "        [  3,   8]],\n",
       "\n",
       "       [[563,   1],\n",
       "        [  2,  10]]], dtype=int64)"
      ]
     },
     "execution_count": 13,
     "metadata": {},
     "output_type": "execute_result"
    }
   ],
   "source": [
    "from sklearn.metrics import accuracy_score, classification_report, multilabel_confusion_matrix\n",
    "\n",
    "\n",
    "y_pred_svm= best_svm.predict(X_test_scaled)\n",
    "ytrue = np.argmax(y_test, axis=1).tolist()\n",
    "ypred_svm = np.argmax(y_pred_svm, axis=1).tolist()\n",
    "\n",
    "print(accuracy_score(ytrue, ypred_svm))\n",
    "multilabel_confusion_matrix(ytrue, ypred_svm)"
   ]
  }
 ],
 "metadata": {
  "kernelspec": {
   "display_name": "Python 3",
   "language": "python",
   "name": "python3"
  },
  "language_info": {
   "codemirror_mode": {
    "name": "ipython",
    "version": 3
   },
   "file_extension": ".py",
   "mimetype": "text/x-python",
   "name": "python",
   "nbconvert_exporter": "python",
   "pygments_lexer": "ipython3",
   "version": "3.11.9"
  }
 },
 "nbformat": 4,
 "nbformat_minor": 2
}
